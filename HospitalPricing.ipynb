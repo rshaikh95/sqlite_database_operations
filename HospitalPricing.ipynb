{
  "nbformat": 4,
  "nbformat_minor": 0,
  "metadata": {
    "colab": {
      "provenance": [],
      "authorship_tag": "ABX9TyMpGwj8CqFOYbovPe0b/s75",
      "include_colab_link": true
    },
    "kernelspec": {
      "name": "python3",
      "display_name": "Python 3"
    },
    "language_info": {
      "name": "python"
    }
  },
  "cells": [
    {
      "cell_type": "markdown",
      "metadata": {
        "id": "view-in-github",
        "colab_type": "text"
      },
      "source": [
        "<a href=\"https://colab.research.google.com/github/rshaikh95/sqlite_database_operations/blob/main/HospitalPricing.ipynb\" target=\"_parent\"><img src=\"https://colab.research.google.com/assets/colab-badge.svg\" alt=\"Open In Colab\"/></a>"
      ]
    },
    {
      "cell_type": "markdown",
      "source": [
        "## Loading Dataset\n",
        "### Missing Values"
      ],
      "metadata": {
        "id": "yBYTpQmEVrM-"
      }
    },
    {
      "cell_type": "code",
      "execution_count": 1,
      "metadata": {
        "id": "BE3iDzCGUf5o"
      },
      "outputs": [],
      "source": [
        "import pandas as pd\n",
        "import numpy as np\n",
        "df = pd.read_csv('https://raw.githubusercontent.com/hantswilliams/HHA_504_2023/main/WK3/data/stonybrook/stonybrook.csv')\n",
        "\n",
        "\n",
        "# Fill missing values\n",
        "df['Description'].fillna('Unknown Description', inplace=True)\n",
        "df['Type'].fillna('Inpatient', inplace=True)\n",
        "df['Package/Line_Level'].fillna('Line', inplace=True)\n",
        "df.fillna(0, inplace=True)\n",
        "\n",
        "\n"
      ]
    },
    {
      "cell_type": "code",
      "source": [
        "import pandas as pd\n",
        "import numpy as np\n",
        "df1 = pd.read_csv('/content/1013998426_wsnchs-north-inc.-dba-st.-joseph-hospital_standardcharges (1).csv')\n",
        "\n",
        "# Fill missing values\n",
        "df1['Charge Description '].fillna('Unknown Description', inplace=True)\n",
        "df1['Package Size'].fillna('Unknown', inplace=True)\n",
        "df1['Package Unit'].fillna('Unknown', inplace=True)\n",
        "df1['Package Description'].fillna('Unknown', inplace=True)\n",
        "df1.fillna(0, inplace=True)\n",
        "df1.replace()\n",
        "df1.sample(50)"
      ],
      "metadata": {
        "id": "p5Z2PjbiXjP9"
      },
      "execution_count": null,
      "outputs": []
    },
    {
      "cell_type": "markdown",
      "source": [
        "### Cleaning White Space and Characters"
      ],
      "metadata": {
        "id": "G8mfWg5rVshF"
      }
    },
    {
      "cell_type": "code",
      "source": [
        "\n",
        "import re\n",
        "\n",
        "# Function to remove white space and special characters from a value\n",
        "def clean_column_names(df):\n",
        "    # Define a helper function to clean column names\n",
        "    def clean_name(name):\n",
        "        cleaned_name = re.sub(r'[^a-zA-Z0-9]', '', name)\n",
        "        return cleaned_name.lower()\n",
        "\n",
        "    # Rename columns using the helper function\n",
        "    # This is using a list comprehend - e.g., we have a list to the right of the equals sign,\n",
        "    # and inside the list, we are applying our function, for every col (or X) that exists in df.columns\n",
        "    df.columns = [clean_name(col) for col in df.columns]\n",
        "    return df\n",
        "\n",
        "# Apply the clean_value function to all columns\n",
        "df = clean_column_names(df)\n",
        "\n",
        "df.columns\n",
        "\n",
        "\n"
      ],
      "metadata": {
        "id": "W_oR-faz0o5n"
      },
      "execution_count": null,
      "outputs": []
    },
    {
      "cell_type": "code",
      "source": [
        "\n",
        "import re\n",
        "\n",
        "# Function to remove white space and special characters from a value\n",
        "def clean_column_names(df1):\n",
        "    # Define a helper function to clean column names\n",
        "    def clean_name(name):\n",
        "        cleaned_name = re.sub(r'[^a-zA-Z0-9]', '', name)\n",
        "        return cleaned_name.lower()\n",
        "\n",
        "    # Rename columns using the helper function\n",
        "    # This is using a list comprehend - e.g., we have a list to the right of the equals sign,\n",
        "    # and inside the list, we are applying our function, for every col (or X) that exists in df.columns\n",
        "    df1.columns = [clean_name(col) for col in df1.columns]\n",
        "    return df1\n",
        "\n",
        "# Apply the clean_value function to all columns\n",
        "df1 = clean_column_names(df1)\n",
        "\n",
        "df1.columns\n",
        "\n",
        "\n"
      ],
      "metadata": {
        "id": "c52RzDzhV3Qc"
      },
      "execution_count": null,
      "outputs": []
    },
    {
      "cell_type": "markdown",
      "source": [
        "## Basic Statistics\n",
        "Frequency Counts of Categories\n",
        "\n"
      ],
      "metadata": {
        "id": "23thKBUacfW2"
      }
    },
    {
      "cell_type": "code",
      "source": [
        "df['description'].value_counts()"
      ],
      "metadata": {
        "id": "dpHuLqJ-cmbI"
      },
      "execution_count": null,
      "outputs": []
    },
    {
      "cell_type": "code",
      "source": [
        "df['type'].value_counts()"
      ],
      "metadata": {
        "id": "n7tN5OrM39TM"
      },
      "execution_count": null,
      "outputs": []
    },
    {
      "cell_type": "code",
      "source": [
        "df['packagelinelevel'].value_counts()"
      ],
      "metadata": {
        "id": "rMr6b6AK4AjC"
      },
      "execution_count": null,
      "outputs": []
    },
    {
      "cell_type": "code",
      "source": [
        "df1['chargedescription'].value_counts()"
      ],
      "metadata": {
        "id": "q_rKr981_1PG"
      },
      "execution_count": null,
      "outputs": []
    },
    {
      "cell_type": "code",
      "source": [
        "df1['packageunit'].value_counts()"
      ],
      "metadata": {
        "id": "rz2xBO6V_1U7"
      },
      "execution_count": null,
      "outputs": []
    },
    {
      "cell_type": "code",
      "source": [
        "df1['packagedescription'].value_counts()"
      ],
      "metadata": {
        "id": "P-wkikz8_1a5"
      },
      "execution_count": null,
      "outputs": []
    },
    {
      "cell_type": "markdown",
      "source": [
        "Descriptive Statistics of Numerical Catagories"
      ],
      "metadata": {
        "id": "jO1GlAjo32-w"
      }
    },
    {
      "cell_type": "code",
      "source": [
        "# Generate descriptive statistics for numerical columns\n",
        "print(df.describe())"
      ],
      "metadata": {
        "id": "3NwEwKbc8K5i"
      },
      "execution_count": null,
      "outputs": []
    },
    {
      "cell_type": "code",
      "source": [
        "# Generate descriptive statistics for numerical columns\n",
        "\n",
        "df1.fillna(0, inplace=True)\n",
        "print(df1.describe(include = 'all'))\n",
        "# Can't Figure out why NaN values appear when already replacing missing values earlier code\n"
      ],
      "metadata": {
        "id": "E0wQLu6LBCar"
      },
      "execution_count": null,
      "outputs": []
    },
    {
      "cell_type": "markdown",
      "source": [
        "# SQLite Database Operations:\n"
      ],
      "metadata": {
        "id": "9f6zssGBl_b7"
      }
    },
    {
      "cell_type": "code",
      "execution_count": 13,
      "metadata": {
        "id": "oSDGm-EaufqY"
      },
      "outputs": [],
      "source": [
        "# Loading Packages\n",
        "import pandas as pd\n",
        "from sqlalchemy import create_engine\n",
        "import sqlite3"
      ]
    },
    {
      "cell_type": "code",
      "source": [
        "# Creating a temporary + local DB using SQLITE\n",
        "conn = sqlite3.connect('health.db')\n",
        "c = conn.cursor()"
      ],
      "metadata": {
        "id": "hot2ohadmWsx"
      },
      "execution_count": 14,
      "outputs": []
    },
    {
      "cell_type": "code",
      "source": [
        "c.execute(\"\"\"\n",
        "            CREATE TABLE stjoe\n",
        "                (\n",
        "                    codedescription text,\n",
        "                    packagedescription text,\n",
        "                    price real,\n",
        "                    billingcode real\n",
        "                );\n",
        "          \"\"\")\n",
        "\n",
        "conn.commit()"
      ],
      "metadata": {
        "id": "sxooxHNRr_iZ"
      },
      "execution_count": 15,
      "outputs": []
    },
    {
      "cell_type": "code",
      "source": [
        "c.execute('''\n",
        "  SELECT name\n",
        "  FROM sqlite_master\n",
        "  WHERE type='table';\n",
        "  ''')\n",
        "\n",
        "c.fetchall()\n",
        "\n",
        "#for value in c.fetchall():\n",
        "#    print(value)"
      ],
      "metadata": {
        "colab": {
          "base_uri": "https://localhost:8080/"
        },
        "id": "Zxg5rBvfsBfA",
        "outputId": "9e0daab6-2278-41c4-8a55-0fe1a834d22d"
      },
      "execution_count": 16,
      "outputs": [
        {
          "output_type": "execute_result",
          "data": {
            "text/plain": [
              "[('stjoe',)]"
            ]
          },
          "metadata": {},
          "execution_count": 16
        }
      ]
    },
    {
      "cell_type": "code",
      "source": [
        "c.execute('''\n",
        "  SELECT * FROM stjoe;\n",
        "''')\n",
        "\n",
        "print(c.fetchall())"
      ],
      "metadata": {
        "colab": {
          "base_uri": "https://localhost:8080/"
        },
        "id": "-8_Z5phxsMGs",
        "outputId": "40801a7f-4bbc-44f9-afc6-db27da720788"
      },
      "execution_count": 17,
      "outputs": [
        {
          "output_type": "stream",
          "name": "stdout",
          "text": [
            "[]\n"
          ]
        }
      ]
    },
    {
      "cell_type": "markdown",
      "source": [
        "## Inserting Fake Data\n"
      ],
      "metadata": {
        "id": "RzuD_Ruiyb-v"
      }
    },
    {
      "cell_type": "code",
      "source": [
        "sql_query = \"\"\"\n",
        "\n",
        "INSERT INTO stjoe (\n",
        "  'codedescription',\n",
        "  'packagedescription',\n",
        "  'price',\n",
        "  'billingcode'\n",
        "  )\n",
        "  values (\n",
        "    'XRX CLOZAPINE 25 MG PO TABS',\n",
        "    'Blister',\n",
        "    '8',\n",
        "    '6370000002'\n",
        "  );\n",
        "\n",
        "\"\"\"\n",
        "\n",
        "print(sql_query)"
      ],
      "metadata": {
        "colab": {
          "base_uri": "https://localhost:8080/"
        },
        "id": "REU0FviCrQ2b",
        "outputId": "9a1ca404-31f1-4372-f912-47be09af46ab"
      },
      "execution_count": 34,
      "outputs": [
        {
          "output_type": "stream",
          "name": "stdout",
          "text": [
            "\n",
            "\n",
            "INSERT INTO stjoe (\n",
            "  'codedescription',\n",
            "  'packagedescription',\n",
            "  'price',\n",
            "  'billingcode'\n",
            "  )\n",
            "  values (\n",
            "    'XRX CLOZAPINE 25 MG PO TABS',\n",
            "    'Blister',\n",
            "    '8',\n",
            "    '6370000002'    \n",
            "  );\n",
            "\n",
            "\n"
          ]
        }
      ]
    },
    {
      "cell_type": "code",
      "source": [
        "c.execute(sql_query)\n",
        "conn.commit()"
      ],
      "metadata": {
        "id": "FVo6BwTPzrJH"
      },
      "execution_count": 35,
      "outputs": []
    },
    {
      "cell_type": "code",
      "source": [
        "sql_query_2 = \"\"\"\n",
        "\n",
        "select *\n",
        "from stjoe;\n",
        "\n",
        "\"\"\"\n",
        "\n",
        "c.execute(sql_query_2)\n",
        "print(c.fetchall())"
      ],
      "metadata": {
        "colab": {
          "base_uri": "https://localhost:8080/"
        },
        "id": "K_x_LwQnvEcu",
        "outputId": "e156bb1f-b36f-4af9-fc08-a361f017e99e"
      },
      "execution_count": 36,
      "outputs": [
        {
          "output_type": "stream",
          "name": "stdout",
          "text": [
            "[('XRX CLOZAPINE 25 MG PO TABS', 'Blister', 8.0, 6370000002.0)]\n"
          ]
        }
      ]
    },
    {
      "cell_type": "code",
      "source": [
        "# conn.close()"
      ],
      "metadata": {
        "id": "QB1gw7WMsYkZ"
      },
      "execution_count": null,
      "outputs": []
    },
    {
      "cell_type": "code",
      "source": [
        "# ## create engine to connect to our sqlite DB\n",
        "engine = create_engine('sqlite:///health.db')"
      ],
      "metadata": {
        "id": "faaOTojKtajL"
      },
      "execution_count": 37,
      "outputs": []
    },
    {
      "cell_type": "code",
      "source": [
        "pd.read_sql_query(\"select * from stjoe;\", conn)"
      ],
      "metadata": {
        "id": "c1Viyg98uRHe"
      },
      "execution_count": null,
      "outputs": []
    },
    {
      "cell_type": "markdown",
      "source": [
        "## Load in some real data from StJoeseph - costs per CPT codes"
      ],
      "metadata": {
        "id": "76sJPXjL4F63"
      }
    },
    {
      "cell_type": "code",
      "source": [
        "# Load in csv data from WK3/data/stonybrook/stonybrook.csv\n",
        "\n",
        "dfr = pd.read_csv('/content/1013998426_wsnchs-north-inc.-dba-st.-joseph-hospital_standardcharges (1).csv')\n",
        "\n",
        "# Shape\n",
        "dfr.shape\n",
        "\n",
        "# Columns\n",
        "dfr.columns\n",
        "\n",
        "## Create new column that goes from wide to long, where we keep columns 0:8 and then melt the rest into a new\n",
        "## column called 'insurance_type'\n",
        "\n",
        "columnNames = list(dfr)\n",
        "idVars = columnNames[:8]\n",
        "valueVars = columnNames[8:]\n",
        "\n",
        "stjoe_modified = dfr.melt(id_vars=idVars, value_vars=valueVars)\n",
        "\n",
        "stjoe_modified.columns\n",
        "\n",
        "stjoe_modified.rename(columns={'codedescription':'codedescription',\n",
        "            'packagedescription':'packagedescription',\n",
        "            'billingcode':'billingcode',\n",
        "            'price':'price'}, inplace=True)\n",
        "\n",
        "\n",
        "stjoe_modified"
      ],
      "metadata": {
        "id": "m0s8y72j4JYF"
      },
      "execution_count": null,
      "outputs": []
    }
  ]
}