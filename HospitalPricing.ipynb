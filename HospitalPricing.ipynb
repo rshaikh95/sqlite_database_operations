{
  "nbformat": 4,
  "nbformat_minor": 0,
  "metadata": {
    "colab": {
      "provenance": [],
      "authorship_tag": "ABX9TyOYbZL6e3UZv0Diimffr2CQ",
      "include_colab_link": true
    },
    "kernelspec": {
      "name": "python3",
      "display_name": "Python 3"
    },
    "language_info": {
      "name": "python"
    }
  },
  "cells": [
    {
      "cell_type": "markdown",
      "metadata": {
        "id": "view-in-github",
        "colab_type": "text"
      },
      "source": [
        "<a href=\"https://colab.research.google.com/github/rshaikh95/sqlite_database_operations/blob/main/HospitalPricing.ipynb\" target=\"_parent\"><img src=\"https://colab.research.google.com/assets/colab-badge.svg\" alt=\"Open In Colab\"/></a>"
      ]
    },
    {
      "cell_type": "markdown",
      "source": [
        "## Loading Dataset\n",
        "### Missing Values"
      ],
      "metadata": {
        "id": "yBYTpQmEVrM-"
      }
    },
    {
      "cell_type": "code",
      "execution_count": 7,
      "metadata": {
        "id": "BE3iDzCGUf5o"
      },
      "outputs": [],
      "source": [
        "import pandas as pd\n",
        "import numpy as np\n",
        "df = pd.read_csv('https://raw.githubusercontent.com/hantswilliams/HHA_504_2023/main/WK3/data/stonybrook/stonybrook.csv')\n",
        "\n",
        "\n",
        "# Fill missing values\n",
        "df['Description'].fillna('Unknown Description', inplace=True)\n",
        "df['Type'].fillna('Inpatient', inplace=True)\n",
        "df['Package/Line_Level'].fillna('Line', inplace=True)\n",
        "df.fillna(0, inplace=True)\n",
        "\n",
        "\n"
      ]
    },
    {
      "cell_type": "code",
      "source": [
        "import pandas as pd\n",
        "import numpy as np\n",
        "df1 = pd.read_csv('/content/1013998426_wsnchs-north-inc.-dba-st.-joseph-hospital_standardcharges (1).csv')\n",
        "\n",
        "# Fill missing values\n",
        "df1['Charge Description '].fillna('Unknown Description', inplace=True)\n",
        "df1['Package Size'].fillna('Unknown', inplace=True)\n",
        "df1['Package Unit'].fillna('Unknown', inplace=True)\n",
        "df1['Package Description'].fillna('Unknown', inplace=True)\n",
        "df1.fillna(0, inplace=True)\n",
        "df1.replace()\n",
        "df1.sample(50)"
      ],
      "metadata": {
        "id": "p5Z2PjbiXjP9"
      },
      "execution_count": null,
      "outputs": []
    },
    {
      "cell_type": "markdown",
      "source": [
        "### Cleaning White Space and Characters"
      ],
      "metadata": {
        "id": "G8mfWg5rVshF"
      }
    },
    {
      "cell_type": "code",
      "source": [
        "\n",
        "import re\n",
        "\n",
        "# Function to remove white space and special characters from a value\n",
        "def clean_column_names(df):\n",
        "    # Define a helper function to clean column names\n",
        "    def clean_name(name):\n",
        "        cleaned_name = re.sub(r'[^a-zA-Z0-9]', '', name)\n",
        "        return cleaned_name.lower()\n",
        "\n",
        "    # Rename columns using the helper function\n",
        "    # This is using a list comprehend - e.g., we have a list to the right of the equals sign,\n",
        "    # and inside the list, we are applying our function, for every col (or X) that exists in df.columns\n",
        "    df.columns = [clean_name(col) for col in df.columns]\n",
        "    return df\n",
        "\n",
        "# Apply the clean_value function to all columns\n",
        "df = clean_column_names(df)\n",
        "\n",
        "df.columns\n",
        "\n",
        "\n"
      ],
      "metadata": {
        "id": "W_oR-faz0o5n",
        "colab": {
          "base_uri": "https://localhost:8080/"
        },
        "outputId": "750e5041-7a56-46b9-c4e6-716ec912ad90"
      },
      "execution_count": 9,
      "outputs": [
        {
          "output_type": "execute_result",
          "data": {
            "text/plain": [
              "Index(['code', 'description', 'type', 'packagelinelevel', 'grosscharge',\n",
              "       'discountedcashprice', 'deidentifiedmincontractedrate',\n",
              "       'deidentifiedmaxcontractedrate', 'derivedcontractedrate',\n",
              "       '1199commercialother', 'aetnamedicareadvantagehmo',\n",
              "       'aetnacommercialhmopos', 'aetnacommercialppoopenaccess',\n",
              "       'aetnacommercialother', 'empirehealthcommercialother',\n",
              "       'empirehealthcommercialppoopenaccess',\n",
              "       'bluecrossblueshieldcommercialother', 'beaconhealthcommercialother',\n",
              "       'carelonhealthcommercialother', 'cignacommercialppoopenaccess',\n",
              "       'cignacommercialother', 'cignacommercialhmopos',\n",
              "       'ehfacetcommercialother', 'emblemhealthcommercialppoopenaccess',\n",
              "       'emblemhealthcommercialother', 'emblemhealthcommercialhmopos',\n",
              "       'emblemhealthmedicaidhmo', 'emblemhealthmedicareadvantagehmo',\n",
              "       'empirehealthcommercialhmopos', 'empirehealthmedicareadvantagehmo',\n",
              "       'empirehealthmedicaidhmo', 'evernorthcommercialother',\n",
              "       'fideliscommercialother', 'fidelismedicareadvantagehmo',\n",
              "       'fidelismedicaidhmo', 'ghicommercialother',\n",
              "       'healthfirstcommercialother', 'healthfirstmedicareadvantagehmo',\n",
              "       'healthfirstmedicaidhmo', 'healthplushpmedicaidhmo',\n",
              "       'healthplushpcommercialother', 'healthplushpmedicareadvantagehmo',\n",
              "       'humanacommercialother', 'humanacommercialhmopos',\n",
              "       'humanacommercialppoopenaccess', 'meritainhealthcommercialother',\n",
              "       'molinacommercialother', 'optumcommercialother',\n",
              "       'oxfordcommercialother', 'oxfordcommercialhmopos',\n",
              "       'tricarecommercialother', 'unitedhealthcarecommercialother',\n",
              "       'unitedhealthcaremedicareadvantagehmo',\n",
              "       'unitedhealthcarecommercialhmopos', 'unitedhealthcaremedicaidhmo',\n",
              "       'unitedhealthcarecommercialppoopenaccess',\n",
              "       'veteranfamilycommercialother'],\n",
              "      dtype='object')"
            ]
          },
          "metadata": {},
          "execution_count": 9
        }
      ]
    },
    {
      "cell_type": "code",
      "source": [
        "\n",
        "import re\n",
        "\n",
        "# Function to remove white space and special characters from a value\n",
        "def clean_column_names(df1):\n",
        "    # Define a helper function to clean column names\n",
        "    def clean_name(name):\n",
        "        cleaned_name = re.sub(r'[^a-zA-Z0-9]', '', name)\n",
        "        return cleaned_name.lower()\n",
        "\n",
        "    # Rename columns using the helper function\n",
        "    # This is using a list comprehend - e.g., we have a list to the right of the equals sign,\n",
        "    # and inside the list, we are applying our function, for every col (or X) that exists in df.columns\n",
        "    df1.columns = [clean_name(col) for col in df1.columns]\n",
        "    return df1\n",
        "\n",
        "# Apply the clean_value function to all columns\n",
        "df1 = clean_column_names(df1)\n",
        "\n",
        "df1.columns\n",
        "\n",
        "\n"
      ],
      "metadata": {
        "colab": {
          "base_uri": "https://localhost:8080/"
        },
        "id": "c52RzDzhV3Qc",
        "outputId": "9a17e2a1-e031-44b4-e47c-5c35916f9ea1"
      },
      "execution_count": 10,
      "outputs": [
        {
          "output_type": "execute_result",
          "data": {
            "text/plain": [
              "Index(['billingchargecode', 'chargedescription', 'revcode', 'cpthcpc', 'price',\n",
              "       'ndc', 'packagesize', 'packageunit', 'packagedescription',\n",
              "       'chargequantity'],\n",
              "      dtype='object')"
            ]
          },
          "metadata": {},
          "execution_count": 10
        }
      ]
    },
    {
      "cell_type": "markdown",
      "source": [
        "## Basic Statistics\n",
        "Frequency Counts of Categories\n",
        "\n"
      ],
      "metadata": {
        "id": "23thKBUacfW2"
      }
    },
    {
      "cell_type": "code",
      "source": [
        "df['description'].value_counts()"
      ],
      "metadata": {
        "id": "dpHuLqJ-cmbI",
        "colab": {
          "base_uri": "https://localhost:8080/"
        },
        "outputId": "a90f5826-e216-4474-af53-d2f8c0f73454"
      },
      "execution_count": 11,
      "outputs": [
        {
          "output_type": "execute_result",
          "data": {
            "text/plain": [
              "R&B MED 05CA SEMI-PRIVATE/2                                                                   3\n",
              "R&B SHA 05PS/11PS SEMI-PRIVATE                                                                3\n",
              "DESTRUCTION OF FIRST DIVISION OF FACE NERVE BRANCH                                            2\n",
              "INJECTION OF CHEMICAL FOR PARALYSIS OF SALIVARY GLANDS ON BOTH SIDES OF MOUTH                 2\n",
              "INJECTION OF CHEMICAL FOR PARALYSIS OF FACIAL AND NECK NERVE MUSCLES ON BOTH SIDES OF FACE    2\n",
              "                                                                                             ..\n",
              "ANCHOR/SCREW FOR OPPOSING BONE-TO-BONE OR SOFT TISSUE-TO-BONE (IMPLANTABLE)                   1\n",
              "BRACHYTHERAPY NEEDLE                                                                          1\n",
              "CARDIOVERTER-DEFIBRILLATOR, DUAL CHAMBER (IMPLANTABLE)                                        1\n",
              "CARDIOVERTER-DEFIBRILLATOR, SINGLE CHAMBER (IMPLANTABLE)                                      1\n",
              "SEMI-PRIVATE                                                                                  1\n",
              "Name: description, Length: 5449, dtype: int64"
            ]
          },
          "metadata": {},
          "execution_count": 11
        }
      ]
    },
    {
      "cell_type": "code",
      "source": [
        "df['type'].value_counts()"
      ],
      "metadata": {
        "id": "n7tN5OrM39TM",
        "colab": {
          "base_uri": "https://localhost:8080/"
        },
        "outputId": "9db62db1-8aac-4eb6-da89-50c93b4b3619"
      },
      "execution_count": 12,
      "outputs": [
        {
          "output_type": "execute_result",
          "data": {
            "text/plain": [
              "Outpatient    6041\n",
              "Inpatient     1669\n",
              "Name: type, dtype: int64"
            ]
          },
          "metadata": {},
          "execution_count": 12
        }
      ]
    },
    {
      "cell_type": "code",
      "source": [
        "df['packagelinelevel'].value_counts()"
      ],
      "metadata": {
        "id": "rMr6b6AK4AjC",
        "colab": {
          "base_uri": "https://localhost:8080/"
        },
        "outputId": "a1abee8b-0669-44ce-8f8e-7b8ae80ac39a"
      },
      "execution_count": 13,
      "outputs": [
        {
          "output_type": "execute_result",
          "data": {
            "text/plain": [
              "Line       5474\n",
              "Package    2236\n",
              "Name: packagelinelevel, dtype: int64"
            ]
          },
          "metadata": {},
          "execution_count": 13
        }
      ]
    },
    {
      "cell_type": "code",
      "source": [
        "df1['chargedescription'].value_counts()"
      ],
      "metadata": {
        "id": "q_rKr981_1PG",
        "colab": {
          "base_uri": "https://localhost:8080/"
        },
        "outputId": "1cde0ad9-6cb2-4bdd-c348-0368f0c3cf25"
      },
      "execution_count": 14,
      "outputs": [
        {
          "output_type": "execute_result",
          "data": {
            "text/plain": [
              "XRX FUROSEMIDE 10 MG/ML IJ SOLN                      33\n",
              "XRX FENTANYL CITRATE 50 MCG/ML IJ SOLN (WRAPPER)     33\n",
              "XRX SODIUM CHLORIDE 0.9 % IV SOLN                    32\n",
              "XRX ROCURONIUM BROMIDE 10 MG/ML IV SOLN (WRAPPER)    28\n",
              "XRX DEXTROSE 5 % IV SOLN                             25\n",
              "                                                     ..\n",
              "ORMS&D CATH DXTERITY 6F JR 4.0                        1\n",
              "ORMS&D CATH DXTERITY 6F JR 5.0                        1\n",
              "ORMS&D CATH DXTERITY 6F KIMNY                         1\n",
              "ORMS&D CATH DXTERITY 6F LCB                           1\n",
              "XRX ZOSTER VACCINE LIVE 19400 UNT/0.65ML SC SUSR      1\n",
              "Name: chargedescription, Length: 54174, dtype: int64"
            ]
          },
          "metadata": {},
          "execution_count": 14
        }
      ]
    },
    {
      "cell_type": "code",
      "source": [
        "df1['packageunit'].value_counts()"
      ],
      "metadata": {
        "id": "rz2xBO6V_1U7",
        "colab": {
          "base_uri": "https://localhost:8080/"
        },
        "outputId": "50586d56-cba6-4233-d4f8-07823946ce98"
      },
      "execution_count": 15,
      "outputs": [
        {
          "output_type": "execute_result",
          "data": {
            "text/plain": [
              "Unknown             52316\n",
              "each                 6935\n",
              "mL                   5157\n",
              "g                     577\n",
              "Units                  15\n",
              "Package                 7\n",
              "halved tablet           7\n",
              "mg                      3\n",
              "mcg                     3\n",
              "capsule                 3\n",
              "quartered tablet        2\n",
              "oz                      1\n",
              "kit                     1\n",
              "vial                    1\n",
              "Name: packageunit, dtype: int64"
            ]
          },
          "metadata": {},
          "execution_count": 15
        }
      ]
    },
    {
      "cell_type": "code",
      "source": [
        "df1['packagedescription'].value_counts()"
      ],
      "metadata": {
        "id": "P-wkikz8_1a5",
        "colab": {
          "base_uri": "https://localhost:8080/"
        },
        "outputId": "edfd5f70-9b1d-49f0-ff19-803988b65612"
      },
      "execution_count": 16,
      "outputs": [
        {
          "output_type": "execute_result",
          "data": {
            "text/plain": [
              "Unknown         52379\n",
              "Bottle           4811\n",
              "Vial             2950\n",
              "Box              1140\n",
              "Blister           971\n",
              "Flex Cont         783\n",
              "Syringe           489\n",
              "Tube              433\n",
              "Bag               193\n",
              "Cup               187\n",
              "Plas Cont         173\n",
              "Ampule            146\n",
              "Glass Cont         79\n",
              "Package            67\n",
              "Packet             60\n",
              "Jar                43\n",
              "Inhaler            32\n",
              "Disp Pack          29\n",
              "Can                18\n",
              "Cartridge          12\n",
              "Pen                 7\n",
              "Pump Btl            5\n",
              "Crtrdg-NDL          5\n",
              "Sachet              4\n",
              "Patch               4\n",
              "Spray Bottle        4\n",
              "Roll                3\n",
              "Punchcard           1\n",
              "Name: packagedescription, dtype: int64"
            ]
          },
          "metadata": {},
          "execution_count": 16
        }
      ]
    },
    {
      "cell_type": "markdown",
      "source": [
        "Descriptive Statistics of Numerical Catagories"
      ],
      "metadata": {
        "id": "jO1GlAjo32-w"
      }
    },
    {
      "cell_type": "code",
      "source": [
        "# Generate descriptive statistics for numerical columns\n",
        "print(df.describe())"
      ],
      "metadata": {
        "id": "3NwEwKbc8K5i",
        "colab": {
          "base_uri": "https://localhost:8080/"
        },
        "outputId": "ba149a15-47fe-4aa0-831c-42625e2a9150"
      },
      "execution_count": 17,
      "outputs": [
        {
          "output_type": "stream",
          "name": "stdout",
          "text": [
            "        grosscharge  discountedcashprice  deidentifiedmincontractedrate  \\\n",
            "count  7.710000e+03         7.710000e+03                    7710.000000   \n",
            "mean   2.274832e+04         2.274832e+04                    3318.184112   \n",
            "std    7.470570e+04         7.470570e+04                    9658.863253   \n",
            "min    3.000000e-02         3.000000e-02                       0.000000   \n",
            "25%    1.065895e+03         1.065895e+03                       7.992500   \n",
            "50%    4.745295e+03         4.745295e+03                     329.195000   \n",
            "75%    1.103881e+04         1.103881e+04                    3008.800000   \n",
            "max    1.857952e+06         1.857952e+06                  327869.690000   \n",
            "\n",
            "       deidentifiedmaxcontractedrate  derivedcontractedrate  \\\n",
            "count                   7.710000e+03            7710.000000   \n",
            "mean                    8.140578e+03            5122.916424   \n",
            "std                     2.654620e+04           13381.140508   \n",
            "min                     0.000000e+00               0.000000   \n",
            "25%                     7.527000e+01              42.272500   \n",
            "50%                     2.352000e+03            1425.850000   \n",
            "75%                     7.195000e+03            4890.955000   \n",
            "max                     1.302636e+06          370099.900000   \n",
            "\n",
            "       1199commercialother  aetnamedicareadvantagehmo  aetnacommercialhmopos  \\\n",
            "count          7710.000000                7710.000000            7710.000000   \n",
            "mean            761.689241                 805.329385            1023.787826   \n",
            "std            9024.408935                5185.413967            4623.889845   \n",
            "min               0.000000                   0.000000               0.000000   \n",
            "25%               0.000000                   0.000000               0.000000   \n",
            "50%               0.000000                   0.000000               0.000000   \n",
            "75%               0.000000                   0.000000               0.000000   \n",
            "max          331304.280000              157848.600000           99999.990000   \n",
            "\n",
            "       aetnacommercialppoopenaccess  aetnacommercialother  ...  \\\n",
            "count                   7710.000000           7710.000000  ...   \n",
            "mean                     927.514354             28.285447  ...   \n",
            "std                     4442.963160            692.801952  ...   \n",
            "min                        0.000000              0.000000  ...   \n",
            "25%                        0.000000              0.000000  ...   \n",
            "50%                        0.000000              0.000000  ...   \n",
            "75%                        0.000000              0.000000  ...   \n",
            "max                    96372.570000          54838.130000  ...   \n",
            "\n",
            "       optumcommercialother  oxfordcommercialother  oxfordcommercialhmopos  \\\n",
            "count           7710.000000            7710.000000                  7710.0   \n",
            "mean            1329.276003             592.944992                     0.0   \n",
            "std             8065.862042            2219.905670                     0.0   \n",
            "min                0.000000               0.000000                     0.0   \n",
            "25%                0.000000               0.000000                     0.0   \n",
            "50%                0.000000               0.000000                     0.0   \n",
            "75%                0.000000               0.000000                     0.0   \n",
            "max           277267.380000           80891.260000                     0.0   \n",
            "\n",
            "       tricarecommercialother  unitedhealthcarecommercialother  \\\n",
            "count             7710.000000                      7710.000000   \n",
            "mean               116.533341                      1827.351926   \n",
            "std               2070.511499                      9384.459880   \n",
            "min                  0.000000                         0.000000   \n",
            "25%                  0.000000                         0.000000   \n",
            "50%                  0.000000                         0.000000   \n",
            "75%                  0.000000                       154.782500   \n",
            "max             154940.610000                    291490.750000   \n",
            "\n",
            "       unitedhealthcaremedicareadvantagehmo  unitedhealthcarecommercialhmopos  \\\n",
            "count                           7710.000000                       7710.000000   \n",
            "mean                             359.247259                         56.263564   \n",
            "std                             3085.300723                       1408.944384   \n",
            "min                                0.000000                          0.000000   \n",
            "25%                                0.000000                          0.000000   \n",
            "50%                                0.000000                          0.000000   \n",
            "75%                                0.000000                          0.000000   \n",
            "max                            92493.910000                      88051.340000   \n",
            "\n",
            "       unitedhealthcaremedicaidhmo  unitedhealthcarecommercialppoopenaccess  \\\n",
            "count                  7710.000000                              7710.000000   \n",
            "mean                    657.348752                                36.552756   \n",
            "std                    5799.281743                               640.847857   \n",
            "min                       0.000000                                 0.000000   \n",
            "25%                       0.000000                                 0.000000   \n",
            "50%                       0.000000                                 0.000000   \n",
            "75%                       7.885000                                 0.000000   \n",
            "max                  327869.690000                             26350.000000   \n",
            "\n",
            "       veteranfamilycommercialother  \n",
            "count                   7710.000000  \n",
            "mean                       4.189885  \n",
            "std                      141.895437  \n",
            "min                        0.000000  \n",
            "25%                        0.000000  \n",
            "50%                        0.000000  \n",
            "75%                        0.000000  \n",
            "max                     7195.400000  \n",
            "\n",
            "[8 rows x 53 columns]\n"
          ]
        }
      ]
    },
    {
      "cell_type": "code",
      "source": [
        "# Generate descriptive statistics for numerical columns\n",
        "\n",
        "df1.fillna(0, inplace=True)\n",
        "print(df1.describe(include = 'all'))\n",
        "# Can't Figure out why NaN values appear when already replacing missing values earlier code\n"
      ],
      "metadata": {
        "id": "E0wQLu6LBCar",
        "colab": {
          "base_uri": "https://localhost:8080/"
        },
        "outputId": "4751687d-2699-4cc2-c42a-0c309f3c0042"
      },
      "execution_count": 18,
      "outputs": [
        {
          "output_type": "stream",
          "name": "stdout",
          "text": [
            "        billingchargecode                chargedescription       revcode  \\\n",
            "count        6.502800e+04                            65028  65028.000000   \n",
            "unique                NaN                            54174           NaN   \n",
            "top                   NaN  XRX FUROSEMIDE 10 MG/ML IJ SOLN           NaN   \n",
            "freq                  NaN                               33           NaN   \n",
            "mean         3.489521e+09                              NaN    307.424002   \n",
            "std          1.418973e+09                              NaN    103.065099   \n",
            "min          1.210000e+09                              NaN    121.000000   \n",
            "25%          2.780171e+09                              NaN    278.000000   \n",
            "50%          2.780176e+09                              NaN    278.000000   \n",
            "75%          2.799000e+09                              NaN    279.000000   \n",
            "max          9.590102e+09                              NaN    959.000000   \n",
            "\n",
            "       cpthcpc       price      ndc packagesize packageunit  \\\n",
            "count    65028       65028  65028.0       65028       65028   \n",
            "unique    4380       10620  12089.0         205          14   \n",
            "top      C1713   3,536.25       0.0     Unknown     Unknown   \n",
            "freq     16782         930  52316.0       52316       52316   \n",
            "mean       NaN         NaN      NaN         NaN         NaN   \n",
            "std        NaN         NaN      NaN         NaN         NaN   \n",
            "min        NaN         NaN      NaN         NaN         NaN   \n",
            "25%        NaN         NaN      NaN         NaN         NaN   \n",
            "50%        NaN         NaN      NaN         NaN         NaN   \n",
            "75%        NaN         NaN      NaN         NaN         NaN   \n",
            "max        NaN         NaN      NaN         NaN         NaN   \n",
            "\n",
            "       packagedescription  chargequantity  \n",
            "count               65028         65028.0  \n",
            "unique                 28           310.0  \n",
            "top               Unknown             0.0  \n",
            "freq                52379         52316.0  \n",
            "mean                  NaN             NaN  \n",
            "std                   NaN             NaN  \n",
            "min                   NaN             NaN  \n",
            "25%                   NaN             NaN  \n",
            "50%                   NaN             NaN  \n",
            "75%                   NaN             NaN  \n",
            "max                   NaN             NaN  \n"
          ]
        }
      ]
    }
  ]
}